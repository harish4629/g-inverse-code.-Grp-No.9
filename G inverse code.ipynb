{
 "cells": [
  {
   "cell_type": "code",
   "execution_count": 2,
   "id": "620978ec",
   "metadata": {},
   "outputs": [],
   "source": [
    "import numpy as np"
   ]
  },
  {
   "cell_type": "code",
   "execution_count": 3,
   "id": "0c6edb3a",
   "metadata": {},
   "outputs": [],
   "source": [
    "A=np.array([[2.5,0.58,0.4],\n",
    "           [0.6,0.32,1],\n",
    "           [0.2,0.84,4]])"
   ]
  },
  {
   "cell_type": "code",
   "execution_count": 4,
   "id": "0e33503b",
   "metadata": {},
   "outputs": [
    {
     "name": "stdout",
     "output_type": "stream",
     "text": [
      "A\n",
      " [[2.5  0.58 0.4 ]\n",
      " [0.6  0.32 1.  ]\n",
      " [0.2  0.84 4.  ]]\n"
     ]
    }
   ],
   "source": [
    "print(\"A\\n\",A)"
   ]
  },
  {
   "cell_type": "code",
   "execution_count": 5,
   "id": "52b12218",
   "metadata": {},
   "outputs": [],
   "source": [
    "r=np.linalg.matrix_rank(A)"
   ]
  },
  {
   "cell_type": "code",
   "execution_count": 6,
   "id": "68fc962e",
   "metadata": {},
   "outputs": [
    {
     "name": "stdout",
     "output_type": "stream",
     "text": [
      "r\n",
      " 2\n"
     ]
    }
   ],
   "source": [
    "print(\"r\\n\",r)"
   ]
  },
  {
   "cell_type": "code",
   "execution_count": 7,
   "id": "b6513d07",
   "metadata": {},
   "outputs": [],
   "source": [
    "B=A[np.ix_([0,r],[0,r])]"
   ]
  },
  {
   "cell_type": "code",
   "execution_count": 8,
   "id": "a33f135e",
   "metadata": {},
   "outputs": [
    {
     "name": "stdout",
     "output_type": "stream",
     "text": [
      "B\n",
      " [[2.5 0.4]\n",
      " [0.2 4. ]]\n"
     ]
    }
   ],
   "source": [
    "print(\"B\\n\",B)"
   ]
  },
  {
   "cell_type": "code",
   "execution_count": 9,
   "id": "d17369f8",
   "metadata": {},
   "outputs": [],
   "source": [
    "H=np.linalg.matrix_rank(B)"
   ]
  },
  {
   "cell_type": "code",
   "execution_count": 10,
   "id": "c3b6a0ec",
   "metadata": {},
   "outputs": [
    {
     "name": "stdout",
     "output_type": "stream",
     "text": [
      "H\n",
      " 2\n"
     ]
    }
   ],
   "source": [
    "print(\"H\\n\",H)"
   ]
  },
  {
   "cell_type": "code",
   "execution_count": 11,
   "id": "6e07b28a",
   "metadata": {},
   "outputs": [],
   "source": [
    "size=np.shape(A)"
   ]
  },
  {
   "cell_type": "code",
   "execution_count": 13,
   "id": "d71b426d",
   "metadata": {},
   "outputs": [
    {
     "name": "stdout",
     "output_type": "stream",
     "text": [
      "size\n",
      " (3, 3)\n"
     ]
    }
   ],
   "source": [
    "print(\"size\\n\",size)\n",
    "m=size[0]\n",
    "n=size[1]"
   ]
  },
  {
   "cell_type": "code",
   "execution_count": 14,
   "id": "de169d17",
   "metadata": {},
   "outputs": [],
   "source": [
    "G=np.zeros((m,n))"
   ]
  },
  {
   "cell_type": "code",
   "execution_count": 15,
   "id": "48882b78",
   "metadata": {},
   "outputs": [
    {
     "name": "stdout",
     "output_type": "stream",
     "text": [
      "G\n",
      " [[0. 0. 0.]\n",
      " [0. 0. 0.]\n",
      " [0. 0. 0.]]\n"
     ]
    }
   ],
   "source": [
    "print(\"G\\n\",G)"
   ]
  },
  {
   "cell_type": "code",
   "execution_count": 16,
   "id": "2dbc76be",
   "metadata": {},
   "outputs": [],
   "source": [
    "if H==r:\n",
    "    G[np.ix_([0,r],[0,r])]=np.linalg.inv(B.T)\n",
    "    G=G.T"
   ]
  },
  {
   "cell_type": "code",
   "execution_count": 17,
   "id": "a6b946f5",
   "metadata": {},
   "outputs": [
    {
     "name": "stdout",
     "output_type": "stream",
     "text": [
      "The G inverse of given matrix is\n",
      " [[ 0.40322581  0.         -0.04032258]\n",
      " [ 0.          0.          0.        ]\n",
      " [-0.02016129  0.          0.25201613]]\n"
     ]
    }
   ],
   "source": [
    "print(\"The G inverse of given matrix is\\n\",G)"
   ]
  },
  {
   "cell_type": "code",
   "execution_count": 18,
   "id": "1f5f4b11",
   "metadata": {},
   "outputs": [
    {
     "name": "stdout",
     "output_type": "stream",
     "text": [
      "AGA\n",
      " [[2.5  0.58 0.4 ]\n",
      " [0.6  0.32 1.  ]\n",
      " [0.2  0.84 4.  ]]\n"
     ]
    }
   ],
   "source": [
    "print(\"AGA\\n\",A.dot(G).dot(A))"
   ]
  },
  {
   "cell_type": "code",
   "execution_count": 25,
   "id": "0e4a21d7",
   "metadata": {},
   "outputs": [
    {
     "name": "stdout",
     "output_type": "stream",
     "text": [
      "trace of GA 2.0\n"
     ]
    }
   ],
   "source": [
    "print(\"trace of GA\",np.trace(G.dot(A)))"
   ]
  },
  {
   "cell_type": "code",
   "execution_count": 26,
   "id": "e3fc1ecb",
   "metadata": {},
   "outputs": [
    {
     "name": "stdout",
     "output_type": "stream",
     "text": [
      "trace of AG 2.0\n"
     ]
    }
   ],
   "source": [
    "print(\"trace of AG\",np.trace(A.dot(G)))"
   ]
  },
  {
   "cell_type": "code",
   "execution_count": null,
   "id": "be1ec73a",
   "metadata": {},
   "outputs": [],
   "source": []
  }
 ],
 "metadata": {
  "kernelspec": {
   "display_name": "Python 3",
   "language": "python",
   "name": "python3"
  },
  "language_info": {
   "codemirror_mode": {
    "name": "ipython",
    "version": 3
   },
   "file_extension": ".py",
   "mimetype": "text/x-python",
   "name": "python",
   "nbconvert_exporter": "python",
   "pygments_lexer": "ipython3",
   "version": "3.8.8"
  }
 },
 "nbformat": 4,
 "nbformat_minor": 5
}
